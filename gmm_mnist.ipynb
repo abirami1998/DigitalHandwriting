{
  "nbformat": 4,
  "nbformat_minor": 0,
  "metadata": {
    "colab": {
      "name": "gmm_mnist.ipynb",
      "provenance": [],
      "collapsed_sections": [],
      "authorship_tag": "ABX9TyMywmxeIlW7rL0GN9ucSyMe",
      "include_colab_link": true
    },
    "kernelspec": {
      "name": "python3",
      "display_name": "Python 3"
    }
  },
  "cells": [
    {
      "cell_type": "markdown",
      "metadata": {
        "id": "view-in-github",
        "colab_type": "text"
      },
      "source": [
        "<a href=\"https://colab.research.google.com/github/abirami1998/DigitalHandwriting/blob/master/gmm_mnist.ipynb\" target=\"_parent\"><img src=\"https://colab.research.google.com/assets/colab-badge.svg\" alt=\"Open In Colab\"/></a>"
      ]
    },
    {
      "cell_type": "code",
      "metadata": {
        "id": "GUkOr_QHBxS8",
        "colab_type": "code",
        "colab": {}
      },
      "source": [
        "import numpy as np\n",
        "import matplotlib.pyplot as plt\n",
        "import seaborn as sn\n",
        "import pandas as pd\n",
        "from sklearn.mixture import GaussianMixture\n",
        "from mlxtend.data import loadlocal_mnist"
      ],
      "execution_count": 16,
      "outputs": []
    },
    {
      "cell_type": "code",
      "metadata": {
        "id": "hpsv2IjTCQh6",
        "colab_type": "code",
        "colab": {}
      },
      "source": [
        "X_train, Y_train = loadlocal_mnist(images_path='train-images.idx3-ubyte',labels_path='train-labels.idx1-ubyte')"
      ],
      "execution_count": 17,
      "outputs": []
    },
    {
      "cell_type": "code",
      "metadata": {
        "id": "RMLqx78UL6ie",
        "colab_type": "code",
        "colab": {}
      },
      "source": [
        "x_train = np.asarray(X_train).astype(np.int32)\n",
        "y_train = np.asarray(Y_train).astype(np.int32)"
      ],
      "execution_count": 18,
      "outputs": []
    },
    {
      "cell_type": "code",
      "metadata": {
        "id": "Itdc5tPIYBL1",
        "colab_type": "code",
        "colab": {
          "base_uri": "https://localhost:8080/",
          "height": 33
        },
        "outputId": "d00b7e58-734f-4379-ff88-9bdfd0fa36a9"
      },
      "source": [
        "x_train.shape"
      ],
      "execution_count": 19,
      "outputs": [
        {
          "output_type": "execute_result",
          "data": {
            "text/plain": [
              "(60000, 784)"
            ]
          },
          "metadata": {
            "tags": []
          },
          "execution_count": 19
        }
      ]
    },
    {
      "cell_type": "code",
      "metadata": {
        "id": "mq5JlfCrf5uI",
        "colab_type": "code",
        "colab": {}
      },
      "source": [
        "X_train=x_train.reshape(60000,28,28)"
      ],
      "execution_count": null,
      "outputs": []
    },
    {
      "cell_type": "code",
      "metadata": {
        "id": "IfXrbNvHZ5nQ",
        "colab_type": "code",
        "colab": {
          "base_uri": "https://localhost:8080/",
          "height": 283
        },
        "outputId": "eca77341-b4de-4ab3-eb9b-c9dfc870592c"
      },
      "source": [
        "plt.imshow(X_train[0])"
      ],
      "execution_count": null,
      "outputs": [
        {
          "output_type": "execute_result",
          "data": {
            "text/plain": [
              "<matplotlib.image.AxesImage at 0x7fe033d8e438>"
            ]
          },
          "metadata": {
            "tags": []
          },
          "execution_count": 13
        },
        {
          "output_type": "display_data",
          "data": {
            "image/png": "[encoded data removed]",
            "text/plain": [
              "<Figure size 432x288 with 1 Axes>"
            ]
          },
          "metadata": {
            "tags": [],
            "needs_background": "light"
          }
        }
      ]
    },
    {
      "cell_type": "markdown",
      "metadata": {
        "id": "bjmorcEocGES",
        "colab_type": "text"
      },
      "source": [
        "**3- MIXTURE MODEL**\n"
      ]
    },
    {
      "cell_type": "code",
      "metadata": {
        "id": "jjjJAYLYJzzV",
        "colab_type": "code",
        "colab": {
          "base_uri": "https://localhost:8080/",
          "height": 35
        },
        "outputId": "233556d7-4c17-4b94-83d5-78291eb16a3b"
      },
      "source": [
        "model3=GaussianMixture(n_components=3,max_iter=100,init_params='kmeans',covariance_type='spherical')\n",
        "model3.fit_predict(x_train)"
      ],
      "execution_count": null,
      "outputs": [
        {
          "output_type": "execute_result",
          "data": {
            "text/plain": [
              "array([0, 2, 2, ..., 0, 2, 1])"
            ]
          },
          "metadata": {
            "tags": []
          },
          "execution_count": 20
        }
      ]
    },
    {
      "cell_type": "code",
      "metadata": {
        "id": "71hBgRoaKP4_",
        "colab_type": "code",
        "colab": {}
      },
      "source": [
        "X_test,Y_test = loadlocal_mnist(images_path='t10k-images.idx3-ubyte',labels_path='t10k-labels.idx1-ubyte')"
      ],
      "execution_count": null,
      "outputs": []
    },
    {
      "cell_type": "code",
      "metadata": {
        "id": "bb_UheV_qOIG",
        "colab_type": "code",
        "colab": {
          "base_uri": "https://localhost:8080/",
          "height": 35
        },
        "outputId": "1588d1ac-58dc-48ec-d059-c65d5542c3f6"
      },
      "source": [
        "X_test.shape"
      ],
      "execution_count": null,
      "outputs": [
        {
          "output_type": "execute_result",
          "data": {
            "text/plain": [
              "(10000, 784)"
            ]
          },
          "metadata": {
            "tags": []
          },
          "execution_count": 16
        }
      ]
    },
    {
      "cell_type": "code",
      "metadata": {
        "id": "UkiUK_Y3ldI6",
        "colab_type": "code",
        "colab": {}
      },
      "source": [
        "X_test = np.asarray(X_test).astype(np.float32)\n",
        "Y_test = np.asarray(Y_test).astype(np.int32)"
      ],
      "execution_count": null,
      "outputs": []
    },
    {
      "cell_type": "code",
      "metadata": {
        "id": "ctAiK6vokjt8",
        "colab_type": "code",
        "colab": {
          "base_uri": "https://localhost:8080/",
          "height": 35
        },
        "outputId": "d58865c3-311c-4615-d7f1-cca1c059b704"
      },
      "source": [
        "pred_label=model3.predict(x_train)\n",
        "print (pred_label)"
      ],
      "execution_count": null,
      "outputs": [
        {
          "output_type": "stream",
          "text": [
            "[0 2 2 ... 0 2 1]\n"
          ],
          "name": "stdout"
        }
      ]
    },
    {
      "cell_type": "markdown",
      "metadata": {
        "id": "ojvCW13DcNb_",
        "colab_type": "text"
      },
      "source": [
        "**SCATTER PLOT FOR BETTER VISUALIZATION**"
      ]
    },
    {
      "cell_type": "code",
      "metadata": {
        "id": "j3S3pQB5DWHi",
        "colab_type": "code",
        "colab": {}
      },
      "source": [
        "def plot_scatterplot(X, N):\n",
        "    lbl1 = f'Component {0}'\n",
        "    lbl2 = f'Component {1}'    \n",
        "    df = pd.DataFrame({lbl1:X[:N,0], lbl2:X[:N,1]})\n",
        "    sn.lmplot(data=df, x=lbl1, y=lbl2, fit_reg=False, scatter_kws={'alpha':0.5}) "
      ],
      "execution_count": 39,
      "outputs": []
    },
    {
      "cell_type": "code",
      "metadata": {
        "id": "DI1TIFdRHVHP",
        "colab_type": "code",
        "colab": {}
      },
      "source": [
        "n = 10000\n",
        "pred=model5.predict(x_train[:n])\n",
        "pred.shape\n",
        "pred_2d = pred.reshape(5000,2)\n"
      ],
      "execution_count": 35,
      "outputs": []
    },
    {
      "cell_type": "code",
      "metadata": {
        "id": "XBEuyJkcg_3z",
        "colab_type": "code",
        "colab": {
          "base_uri": "https://localhost:8080/",
          "height": 369
        },
        "outputId": "22b4d428-d55a-40ee-f332-8b819e300a01"
      },
      "source": [
        "plot_scatterplot(pred_2d,N=10000)"
      ],
      "execution_count": 40,
      "outputs": [
        {
          "output_type": "display_data",
          "data": {
            "image/png": "[encoded data removed]",
            "text/plain": [
              "<Figure size 360x360 with 1 Axes>"
            ]
          },
          "metadata": {
            "tags": [],
            "needs_background": "light"
          }
        }
      ]
    },
    {
      "cell_type": "code",
      "metadata": {
        "id": "OPIv2TmXDiAJ",
        "colab_type": "code",
        "colab": {
          "base_uri": "https://localhost:8080/",
          "height": 369
        },
        "outputId": "faf875b4-ab90-4c05-f32f-4e802e0def1b"
      },
      "source": [
        "from sklearn.manifold import TSNE       \n",
        "\n",
        "n = 10000\n",
        "np.random.seed(0)\n",
        "tsne = TSNE()\n",
        "X_tsne = tsne.fit_transform(x_train[:n])\n",
        "plot_scatterplot(X_tsne,N=2000)"
      ],
      "execution_count": null,
      "outputs": [
        {
          "output_type": "display_data",
          "data": {
            "image/png": "[encoded data removed]",
            "text/plain": [
              "<Figure size 360x360 with 1 Axes>"
            ]
          },
          "metadata": {
            "tags": [],
            "needs_background": "light"
          }
        }
      ]
    },
    {
      "cell_type": "code",
      "metadata": {
        "id": "cng12c0ghHnC",
        "colab_type": "code",
        "colab": {
          "base_uri": "https://localhost:8080/",
          "height": 35
        },
        "outputId": "10e48e8d-e0bc-4645-eeb8-6939cbe1568a"
      },
      "source": [
        "X_tsne.shape"
      ],
      "execution_count": null,
      "outputs": [
        {
          "output_type": "execute_result",
          "data": {
            "text/plain": [
              "(10000, 2)"
            ]
          },
          "metadata": {
            "tags": []
          },
          "execution_count": 31
        }
      ]
    },
    {
      "cell_type": "markdown",
      "metadata": {
        "id": "AWcPpxZiVzZK",
        "colab_type": "text"
      },
      "source": [
        "**Scatterplot using gaussian mixture predictions(3-mix)**\n"
      ]
    },
    {
      "cell_type": "code",
      "metadata": {
        "id": "4enzHcBg-aWo",
        "colab_type": "code",
        "colab": {}
      },
      "source": [
        "x_test=X_test.reshape(10000,28,28)"
      ],
      "execution_count": null,
      "outputs": []
    },
    {
      "cell_type": "code",
      "metadata": {
        "id": "GXuXX0jAE-Fm",
        "colab_type": "code",
        "colab": {
          "base_uri": "https://localhost:8080/",
          "height": 52
        },
        "outputId": "d9125884-515b-4d4d-b0e9-4de034c98b4d"
      },
      "source": [
        "model3.score_samples(X_test)                           #Log-liklihood for each sample"
      ],
      "execution_count": null,
      "outputs": [
        {
          "output_type": "execute_result",
          "data": {
            "text/plain": [
              "array([-4237.26676561, -4476.00935256, -3892.62101695, ...,\n",
              "       -4275.74755854, -4441.88277619, -4494.11095131])"
            ]
          },
          "metadata": {
            "tags": []
          },
          "execution_count": 19
        }
      ]
    },
    {
      "cell_type": "code",
      "metadata": {
        "id": "OMqxHj9Z4ARY",
        "colab_type": "code",
        "colab": {
          "base_uri": "https://localhost:8080/",
          "height": 35
        },
        "outputId": "61baa93d-b81b-436e-eb41-2bdb12f2f816"
      },
      "source": [
        "model3.bic(x_train)"
      ],
      "execution_count": null,
      "outputs": [
        {
          "output_type": "execute_result",
          "data": {
            "text/plain": [
              "522140065.0246777"
            ]
          },
          "metadata": {
            "tags": []
          },
          "execution_count": 40
        }
      ]
    },
    {
      "cell_type": "code",
      "metadata": {
        "id": "oDP5IJCA5uTa",
        "colab_type": "code",
        "colab": {
          "base_uri": "https://localhost:8080/",
          "height": 35
        },
        "outputId": "93a87554-f6b8-4fc9-9842-3747e2809020"
      },
      "source": [
        "model3.aic(x_train)"
      ],
      "execution_count": null,
      "outputs": [
        {
          "output_type": "execute_result",
          "data": {
            "text/plain": [
              "522118847.07535195"
            ]
          },
          "metadata": {
            "tags": []
          },
          "execution_count": 41
        }
      ]
    },
    {
      "cell_type": "code",
      "metadata": {
        "id": "yXPQn4Ak6w_z",
        "colab_type": "code",
        "colab": {
          "base_uri": "https://localhost:8080/",
          "height": 35
        },
        "outputId": "7d87c97c-d366-4b9a-f95d-6654b1abc38c"
      },
      "source": [
        "model3.score(x_train)                        #Avg log-likelihood per sample"
      ],
      "execution_count": null,
      "outputs": [
        {
          "output_type": "execute_result",
          "data": {
            "text/plain": [
              "-4350.951108961266"
            ]
          },
          "metadata": {
            "tags": []
          },
          "execution_count": 44
        }
      ]
    },
    {
      "cell_type": "markdown",
      "metadata": {
        "id": "kjgLfhZv64kn",
        "colab_type": "text"
      },
      "source": [
        "**5-MIXTURE MODEL**\n"
      ]
    },
    {
      "cell_type": "code",
      "metadata": {
        "id": "-1EKw1iFnb5v",
        "colab_type": "code",
        "colab": {
          "base_uri": "https://localhost:8080/",
          "height": 83
        },
        "outputId": "16c113ff-5b7f-4442-acc8-2c751ad0d65f"
      },
      "source": [
        "maussianMixture(n_components=5,max_iter=400,init_params='random',covariance_type='full')\n",
        "model5.fit(x_train)"
      ],
      "execution_count": 20,
      "outputs": [
        {
          "output_type": "execute_result",
          "data": {
            "text/plain": [
              "GaussianMixture(covariance_type='full', init_params='random', max_iter=400,\n",
              "                means_init=None, n_components=5, n_init=1, precisions_init=None,\n",
              "                random_state=None, reg_covar=1e-06, tol=0.001, verbose=0,\n",
              "                verbose_interval=10, warm_start=False, weights_init=None)"
            ]
          },
          "metadata": {
            "tags": []
          },
          "execution_count": 20
        }
      ]
    },
    {
      "cell_type": "code",
      "metadata": {
        "id": "SNVxhpEPSLZV",
        "colab_type": "code",
        "colab": {
          "base_uri": "https://localhost:8080/",
          "height": 67
        },
        "outputId": "89bc9d23-f201-45cc-8767-296e06329ef2"
      },
      "source": [
        "pred5=model5.predict(x_train)\n",
        "bic=model5.bic(x_train)\n",
        "print(\"Bic\",bic)\n",
        "aic=model5.aic(x_train)\n",
        "print(\"aic\",aic)\n",
        "scr=model5.score(x_train)\n",
        "print(\"Score\",scr)\n",
        "silscr=metrics.silhouette_score(x_train,pred5)\n",
        "#print(\"Silhouette Score\",silscr)"
      ],
      "execution_count": 41,
      "outputs": [
        {
          "output_type": "stream",
          "text": [
            "Bic 101123436.60194743\n",
            "aic 87237481.54649371\n",
            "Score -701.2702795541143\n"
          ],
          "name": "stdout"
        }
      ]
    },
    {
      "cell_type": "code",
      "metadata": {
        "id": "T7K_SCj-5UNx",
        "colab_type": "code",
        "colab": {
          "base_uri": "https://localhost:8080/",
          "height": 248
        },
        "outputId": "df71931b-d5f1-4b55-ac54-ddf4340b16c8"
      },
      "source": [
        "model5.predict_proba(x_train)"
      ],
      "execution_count": null,
      "outputs": [
        {
          "output_type": "execute_result",
          "data": {
            "text/plain": [
              "array([[0.00000000e+000, 0.00000000e+000, 0.00000000e+000,\n",
              "        1.00000000e+000, 0.00000000e+000],\n",
              "       [1.00000000e+000, 0.00000000e+000, 0.00000000e+000,\n",
              "        0.00000000e+000, 0.00000000e+000],\n",
              "       [0.00000000e+000, 1.00000000e+000, 0.00000000e+000,\n",
              "        0.00000000e+000, 0.00000000e+000],\n",
              "       ...,\n",
              "       [1.36024177e-205, 0.00000000e+000, 1.00000000e+000,\n",
              "        0.00000000e+000, 0.00000000e+000],\n",
              "       [0.00000000e+000, 0.00000000e+000, 0.00000000e+000,\n",
              "        0.00000000e+000, 1.00000000e+000],\n",
              "       [0.00000000e+000, 0.00000000e+000, 1.00000000e+000,\n",
              "        0.00000000e+000, 0.00000000e+000]])"
            ]
          },
          "metadata": {
            "tags": []
          },
          "execution_count": 39
        }
      ]
    },
    {
      "cell_type": "code",
      "metadata": {
        "id": "olp2PTxANGyR",
        "colab_type": "code",
        "colab": {}
      },
      "source": [
        "from sklearn import metrics\n",
        "metrics.silhouette_score(x_train,pred5)"
      ],
      "execution_count": null,
      "outputs": []
    },
    {
      "cell_type": "markdown",
      "metadata": {
        "id": "8bwNmaqoRqZa",
        "colab_type": "text"
      },
      "source": [
        "Predictions on x_test"
      ]
    },
    {
      "cell_type": "code",
      "metadata": {
        "id": "IEfuPyApqnnv",
        "colab_type": "code",
        "colab": {
          "base_uri": "https://localhost:8080/",
          "height": 88
        },
        "outputId": "192c0cc3-2948-452b-8876-535fc6256aa1"
      },
      "source": [
        "pred5test=model5.predict(X_test)\n",
        "bic=model5.bic(X_test)\n",
        "print(\"Bic\",bic)\n",
        "aic=model5.aic(X_test)\n",
        "print(\"aic\",aic)\n",
        "scr=model5.score(X_test)\n",
        "print(\"Score\",scr)\n",
        "silscr=metrics.silhouette_score(X_test,pred5test)\n",
        "print(\"Silhouette Score\",silscr)"
      ],
      "execution_count": null,
      "outputs": [
        {
          "output_type": "stream",
          "text": [
            "Bic 92037123098.06674\n",
            "aic 92026000974.9948\n",
            "Score -4601145.79634974\n",
            "Silhouette Score 0.020086136\n"
          ],
          "name": "stdout"
        }
      ]
    },
    {
      "cell_type": "markdown",
      "metadata": {
        "id": "nxVUduL6dmyd",
        "colab_type": "text"
      },
      "source": [
        "Generating Samples:"
      ]
    },
    {
      "cell_type": "code",
      "metadata": {
        "id": "wQ9NyS22QlP-",
        "colab_type": "code",
        "colab": {}
      },
      "source": [
        "x5,y5=model5.sample(30)"
      ],
      "execution_count": 29,
      "outputs": []
    },
    {
      "cell_type": "code",
      "metadata": {
        "id": "mWK89bAaa_j7",
        "colab_type": "code",
        "colab": {}
      },
      "source": [
        "smpl=x5[25].reshape((28,28))"
      ],
      "execution_count": 30,
      "outputs": []
    },
    {
      "cell_type": "code",
      "metadata": {
        "id": "hcqfOeJIbM7q",
        "colab_type": "code",
        "colab": {
          "base_uri": "https://localhost:8080/",
          "height": 50
        },
        "outputId": "926284d3-c746-4d65-be42-218bd28ddf0c"
      },
      "source": [
        "y5"
      ],
      "execution_count": 33,
      "outputs": [
        {
          "output_type": "execute_result",
          "data": {
            "text/plain": [
              "array([0, 0, 1, 1, 1, 1, 1, 1, 1, 3, 3, 4, 4, 4, 4, 4, 4, 4, 4, 4, 4, 4,\n",
              "       4, 4, 4, 4, 4, 4, 4, 4])"
            ]
          },
          "metadata": {
            "tags": []
          },
          "execution_count": 33
        }
      ]
    },
    {
      "cell_type": "code",
      "metadata": {
        "id": "UYMDdyRxbYPN",
        "colab_type": "code",
        "colab": {
          "base_uri": "https://localhost:8080/",
          "height": 282
        },
        "outputId": "378c26c9-2500-4f92-9baf-9c3ee517f275"
      },
      "source": [
        "plt.imshow(smpl)"
      ],
      "execution_count": 32,
      "outputs": [
        {
          "output_type": "execute_result",
          "data": {
            "text/plain": [
              "<matplotlib.image.AxesImage at 0x7f9d040ef9b0>"
            ]
          },
          "metadata": {
            "tags": []
          },
          "execution_count": 32
        },
        {
          "output_type": "display_data",
          "data": {
            "image/png": "[encoded data removed]",
            "text/plain": [
              "<Figure size 432x288 with 1 Axes>"
            ]
          },
          "metadata": {
            "tags": [],
            "needs_background": "light"
          }
        }
      ]
    },
    {
      "cell_type": "code",
      "metadata": {
        "id": "dpP489QkbcoI",
        "colab_type": "code",
        "colab": {}
      },
      "source": [
        ""
      ],
      "execution_count": null,
      "outputs": []
    }
  ]
}