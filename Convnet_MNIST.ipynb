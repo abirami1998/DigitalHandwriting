{
  "nbformat": 4,
  "nbformat_minor": 0,
  "metadata": {
    "colab": {
      "name": "Convnet-MNIST.ipynb",
      "provenance": [],
      "collapsed_sections": []
    },
    "kernelspec": {
      "name": "python3",
      "display_name": "Python 3"
    }
  },
  "cells": [
    {
      "cell_type": "code",
      "metadata": {
        "id": "6y-1WXy0yD7d",
        "colab_type": "code",
        "colab": {}
      },
      "source": [
        "%matplotlib inline"
      ],
      "execution_count": 0,
      "outputs": []
    },
    {
      "cell_type": "code",
      "metadata": {
        "id": "4Ne9Ro-cyGvA",
        "colab_type": "code",
        "colab": {}
      },
      "source": [
        "from tensorflow.keras import Sequential\n",
        "from tensorflow.keras.layers import Dense,Conv2D,Flatten\n",
        "import matplotlib.pyplot as plt\n",
        "from keras.datasets import mnist\n",
        "from keras.utils import to_categorical"
      ],
      "execution_count": 0,
      "outputs": []
    },
    {
      "cell_type": "code",
      "metadata": {
        "id": "MUIFiA4eyLuc",
        "colab_type": "code",
        "colab": {
          "base_uri": "https://localhost:8080/",
          "height": 52
        },
        "outputId": "611f349a-baf8-4d3e-d620-a6013f2f7c72"
      },
      "source": [
        "(X_train, y_train), (X_test, y_test) = mnist.load_data()"
      ],
      "execution_count": 5,
      "outputs": [
        {
          "output_type": "stream",
          "text": [
            "Downloading data from https://s3.amazonaws.com/img-datasets/mnist.npz\n",
            "11493376/11490434 [==============================] - 0s 0us/step\n"
          ],
          "name": "stdout"
        }
      ]
    },
    {
      "cell_type": "code",
      "metadata": {
        "id": "xbDsQvrhyq6-",
        "colab_type": "code",
        "colab": {
          "base_uri": "https://localhost:8080/",
          "height": 282
        },
        "outputId": "0cc401f0-f875-4aa2-d6cc-2d95d10ab09e"
      },
      "source": [
        "plt.imshow(X_train[0])\n"
      ],
      "execution_count": 9,
      "outputs": [
        {
          "output_type": "execute_result",
          "data": {
            "text/plain": [
              "<matplotlib.image.AxesImage at 0x7f80e9047630>"
            ]
          },
          "metadata": {
            "tags": []
          },
          "execution_count": 9
        },
        {
          "output_type": "display_data",
          "data": {
            "image/png": "[encoded data removed]",
            "text/plain": [
              "<Figure size 432x288 with 1 Axes>"
            ]
          },
          "metadata": {
            "tags": []
          }
        }
      ]
    },
    {
      "cell_type": "code",
      "metadata": {
        "id": "AIX1odqYyu6u",
        "colab_type": "code",
        "colab": {
          "base_uri": "https://localhost:8080/",
          "height": 34
        },
        "outputId": "d060f846-d7e7-407b-9a2f-ea397479bd4b"
      },
      "source": [
        "X_train.shape\n"
      ],
      "execution_count": 10,
      "outputs": [
        {
          "output_type": "execute_result",
          "data": {
            "text/plain": [
              "(60000, 28, 28)"
            ]
          },
          "metadata": {
            "tags": []
          },
          "execution_count": 10
        }
      ]
    },
    {
      "cell_type": "code",
      "metadata": {
        "id": "KwWJV9mUzZFW",
        "colab_type": "code",
        "colab": {}
      },
      "source": [
        "X_train=X_train.reshape(60000,28,28,1)\n",
        "X_test=X_test.reshape(10000,28,28,1)"
      ],
      "execution_count": 0,
      "outputs": []
    },
    {
      "cell_type": "code",
      "metadata": {
        "id": "L1xji1ILzqdq",
        "colab_type": "code",
        "colab": {}
      },
      "source": [
        "y_train=to_categorical(y_train)"
      ],
      "execution_count": 0,
      "outputs": []
    },
    {
      "cell_type": "code",
      "metadata": {
        "id": "0n53QYP4zuyB",
        "colab_type": "code",
        "colab": {
          "base_uri": "https://localhost:8080/",
          "height": 34
        },
        "outputId": "74c28ed3-2a0b-4679-eea4-8816fce5b513"
      },
      "source": [
        "y_test=to_categorical(y_test)\n",
        "y_train[0]"
      ],
      "execution_count": 13,
      "outputs": [
        {
          "output_type": "execute_result",
          "data": {
            "text/plain": [
              "array([0., 0., 0., 0., 0., 1., 0., 0., 0., 0.], dtype=float32)"
            ]
          },
          "metadata": {
            "tags": []
          },
          "execution_count": 13
        }
      ]
    },
    {
      "cell_type": "code",
      "metadata": {
        "id": "atG9Rn8dz1wt",
        "colab_type": "code",
        "colab": {}
      },
      "source": [
        "from tensorflow.python.keras.layers import Dense\n",
        "from tensorflow.python.keras import Sequential"
      ],
      "execution_count": 0,
      "outputs": []
    },
    {
      "cell_type": "code",
      "metadata": {
        "id": "qam59-aR0YXO",
        "colab_type": "code",
        "colab": {}
      },
      "source": [
        "model = Sequential()\n",
        "\n",
        "#add model layers\n",
        "model.add(Conv2D(64, kernel_size=3, activation='relu', input_shape=(28,28,1)))\n",
        "model.add(Conv2D(32, kernel_size=3, activation='relu'))\n",
        "model.add(Flatten())\n",
        "model.add(Dense(10, activation='softmax'))"
      ],
      "execution_count": 0,
      "outputs": []
    },
    {
      "cell_type": "code",
      "metadata": {
        "id": "iBiF-zzf3Hkc",
        "colab_type": "code",
        "colab": {}
      },
      "source": [
        "model.compile(optimizer='adam', loss='categorical_crossentropy', metrics=['accuracy'])"
      ],
      "execution_count": 0,
      "outputs": []
    },
    {
      "cell_type": "code",
      "metadata": {
        "id": "ZejhK9Q83UO_",
        "colab_type": "code",
        "colab": {
          "base_uri": "https://localhost:8080/",
          "height": 160
        },
        "outputId": "54951e36-78d1-4831-8dfb-3ea9229e79c8"
      },
      "source": [
        "model.fit(X_train, y_train,validation_data=(X_test, y_test), epochs=3)"
      ],
      "execution_count": 22,
      "outputs": [
        {
          "output_type": "stream",
          "text": [
            "Epoch 1/3\n",
            "1875/1875 [==============================] - 167s 89ms/step - loss: 0.2342 - accuracy: 0.9518 - val_loss: 0.0750 - val_accuracy: 0.9772\n",
            "Epoch 2/3\n",
            "1875/1875 [==============================] - 168s 89ms/step - loss: 0.0687 - accuracy: 0.9793 - val_loss: 0.0691 - val_accuracy: 0.9787\n",
            "Epoch 3/3\n",
            "1875/1875 [==============================] - 166s 89ms/step - loss: 0.0432 - accuracy: 0.9870 - val_loss: 0.0806 - val_accuracy: 0.9761\n"
          ],
          "name": "stdout"
        },
        {
          "output_type": "execute_result",
          "data": {
            "text/plain": [
              "<tensorflow.python.keras.callbacks.History at 0x7f80e2b54c50>"
            ]
          },
          "metadata": {
            "tags": []
          },
          "execution_count": 22
        }
      ]
    },
    {
      "cell_type": "code",
      "metadata": {
        "id": "S5Y8vGju3eiN",
        "colab_type": "code",
        "colab": {
          "base_uri": "https://localhost:8080/",
          "height": 334
        },
        "outputId": "36a67aae-9c29-4b98-e66a-f9fa9fb3acea"
      },
      "source": [
        "model.predict(X_test[:6])"
      ],
      "execution_count": 26,
      "outputs": [
        {
          "output_type": "execute_result",
          "data": {
            "text/plain": [
              "array([[2.27226638e-09, 1.68521828e-11, 2.13753104e-08, 6.90532761e-06,\n",
              "        5.60311129e-12, 1.40142342e-08, 4.58947930e-14, 9.99989033e-01,\n",
              "        3.87083492e-06, 1.95967360e-07],\n",
              "       [3.10068731e-06, 8.80694370e-06, 9.99909163e-01, 6.37487574e-07,\n",
              "        1.08180558e-07, 2.78141989e-11, 5.84921763e-05, 1.81283699e-08,\n",
              "        1.96911424e-05, 2.41603820e-10],\n",
              "       [3.27513862e-06, 9.99513745e-01, 2.02009964e-04, 4.68029896e-07,\n",
              "        2.34409981e-05, 2.13377334e-05, 1.83152872e-06, 1.04042954e-06,\n",
              "        2.32237915e-04, 6.21310335e-07],\n",
              "       [9.99926329e-01, 1.05048659e-09, 3.95493004e-07, 1.01474273e-09,\n",
              "        1.51910005e-08, 6.20051654e-09, 1.53027372e-07, 6.89506952e-10,\n",
              "        7.03065816e-05, 2.72541911e-06],\n",
              "       [1.41301082e-09, 1.54176490e-07, 1.18645805e-11, 1.52147420e-10,\n",
              "        9.99999404e-01, 2.02306713e-10, 1.18329793e-12, 2.28410790e-10,\n",
              "        2.93143354e-09, 5.09790482e-07],\n",
              "       [6.54998166e-06, 9.99753177e-01, 2.00866384e-06, 2.43786169e-09,\n",
              "        3.08824820e-05, 3.93236576e-07, 1.32851561e-08, 1.59600182e-04,\n",
              "        4.69450169e-05, 5.24628206e-07]], dtype=float32)"
            ]
          },
          "metadata": {
            "tags": []
          },
          "execution_count": 26
        }
      ]
    },
    {
      "cell_type": "code",
      "metadata": {
        "id": "Wlu3ihcd516S",
        "colab_type": "code",
        "colab": {
          "base_uri": "https://localhost:8080/",
          "height": 122
        },
        "outputId": "5a2defd4-d491-4e35-d256-70c93c2f338d"
      },
      "source": [
        "y_test[:6]"
      ],
      "execution_count": 27,
      "outputs": [
        {
          "output_type": "execute_result",
          "data": {
            "text/plain": [
              "array([[0., 0., 0., 0., 0., 0., 0., 1., 0., 0.],\n",
              "       [0., 0., 1., 0., 0., 0., 0., 0., 0., 0.],\n",
              "       [0., 1., 0., 0., 0., 0., 0., 0., 0., 0.],\n",
              "       [1., 0., 0., 0., 0., 0., 0., 0., 0., 0.],\n",
              "       [0., 0., 0., 0., 1., 0., 0., 0., 0., 0.],\n",
              "       [0., 1., 0., 0., 0., 0., 0., 0., 0., 0.]], dtype=float32)"
            ]
          },
          "metadata": {
            "tags": []
          },
          "execution_count": 27
        }
      ]
    },
    {
      "cell_type": "code",
      "metadata": {
        "id": "KaGK5sIU6hZj",
        "colab_type": "code",
        "colab": {}
      },
      "source": [
        ""
      ],
      "execution_count": 0,
      "outputs": []
    }
  ]
}